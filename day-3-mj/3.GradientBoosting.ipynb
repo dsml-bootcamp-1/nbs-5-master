{
 "cells": [
  {
   "cell_type": "markdown",
   "id": "15eba227",
   "metadata": {},
   "source": [
    "## Classification"
   ]
  },
  {
   "cell_type": "code",
   "execution_count": 1,
   "id": "220a402e",
   "metadata": {},
   "outputs": [
    {
     "name": "stdout",
     "output_type": "stream",
     "text": [
      "Gradient Boosting Classifier accuracy is : 0.98\n"
     ]
    }
   ],
   "source": [
    "from sklearn.ensemble import GradientBoostingClassifier\n",
    "from sklearn.model_selection import train_test_split\n",
    "from sklearn.metrics import accuracy_score\n",
    "from sklearn.datasets import load_digits\n",
    "\n",
    "SEED = 23\n",
    "\n",
    "X, y = load_digits(return_X_y=True)\n",
    "\n",
    "train_X, test_X, train_y, test_y = train_test_split(X, y, \n",
    "                                                    test_size = 0.25, \n",
    "                                                    random_state = SEED)\n",
    "\n",
    "gbc = GradientBoostingClassifier(n_estimators=300,\n",
    "                                 learning_rate=0.05,\n",
    "                                 random_state=100,\n",
    "                                 max_features=5 )\n",
    "                                 \n",
    "gbc.fit(train_X, train_y)\n",
    "\n",
    "pred_y = gbc.predict(test_X)\n",
    "\n",
    "acc = accuracy_score(test_y, pred_y)\n",
    "print(\"Gradient Boosting Classifier accuracy is : {:.2f}\".format(acc))"
   ]
  },
  {
   "cell_type": "markdown",
   "id": "1d9332c7",
   "metadata": {},
   "source": [
    "## Regression"
   ]
  },
  {
   "cell_type": "code",
   "execution_count": 2,
   "id": "1e34ddc3",
   "metadata": {},
   "outputs": [
    {
     "name": "stdout",
     "output_type": "stream",
     "text": [
      "Root mean Square error: 56.39\n"
     ]
    }
   ],
   "source": [
    "from sklearn.ensemble import GradientBoostingRegressor\n",
    "from sklearn.model_selection import train_test_split\n",
    "from sklearn.metrics import mean_squared_error\n",
    "from sklearn.datasets import load_diabetes\n",
    "\n",
    "SEED = 23\n",
    "\n",
    "X, y = load_diabetes(return_X_y=True)\n",
    "\n",
    "train_X, test_X, train_y, test_y = train_test_split(X, y, \n",
    "                                                    test_size = 0.25, \n",
    "                                                    random_state = SEED)\n",
    "\n",
    "gbr = GradientBoostingRegressor(loss='absolute_error',\n",
    "                                learning_rate=0.1,\n",
    "                                n_estimators=300,\n",
    "                                max_depth = 1, \n",
    "                                random_state = SEED,\n",
    "                                max_features = 5)\n",
    "\n",
    "gbr.fit(train_X, train_y)\n",
    "\n",
    "pred_y = gbr.predict(test_X)\n",
    "\n",
    "test_rmse = mean_squared_error(test_y, pred_y) ** (1 / 2)\n",
    "\n",
    "print('Root mean Square error: {:.2f}'.format(test_rmse))"
   ]
  }
 ],
 "metadata": {
  "kernelspec": {
   "display_name": "base",
   "language": "python",
   "name": "python3"
  },
  "language_info": {
   "codemirror_mode": {
    "name": "ipython",
    "version": 3
   },
   "file_extension": ".py",
   "mimetype": "text/x-python",
   "name": "python",
   "nbconvert_exporter": "python",
   "pygments_lexer": "ipython3",
   "version": "3.12.7"
  }
 },
 "nbformat": 4,
 "nbformat_minor": 5
}
